{
 "cells": [
  {
   "attachments": {},
   "cell_type": "markdown",
   "metadata": {},
   "source": [
    "# Imports"
   ]
  },
  {
   "cell_type": "code",
   "execution_count": 1,
   "metadata": {},
   "outputs": [
    {
     "name": "stderr",
     "output_type": "stream",
     "text": [
      "c:\\Users\\bjham\\Documents\\programming\\venvs\\predict-at-bat-outcome\\dev\\lib\\site-packages\\tqdm\\auto.py:22: TqdmWarning: IProgress not found. Please update jupyter and ipywidgets. See https://ipywidgets.readthedocs.io/en/stable/user_install.html\n",
      "  from .autonotebook import tqdm as notebook_tqdm\n"
     ]
    }
   ],
   "source": [
    "# Adding parent dir to sys.path to import functions\n",
    "import sys\n",
    "if \"..\" not in sys.path:\n",
    "    sys.path.insert(0, \"..\")\n",
    "from data.data_handler import Data\n",
    "from IPython.display import display, HTML\n",
    "from matplotlib import pyplot as plt\n",
    "import pandas as pd\n",
    "import numpy as np"
   ]
  },
  {
   "cell_type": "markdown",
   "metadata": {},
   "source": [
    "# Get Data"
   ]
  },
  {
   "cell_type": "code",
   "execution_count": 2,
   "metadata": {},
   "outputs": [],
   "source": [
    "abs = Data('F:/baseball/active_player_abs')"
   ]
  },
  {
   "attachments": {},
   "cell_type": "markdown",
   "metadata": {},
   "source": [
    "# Testing Data Redistribution"
   ]
  },
  {
   "cell_type": "code",
   "execution_count": 19,
   "metadata": {},
   "outputs": [],
   "source": [
    "# cleaning step the model takes first\n",
    "data = abs.data.copy()\n",
    "\n",
    "drop = ['sac_fly_double_play', 'batter_interference',\n",
    "    'sac_bunt_double_play', 'hit_by_pitch', 'interf_def']\n",
    "field_out = ['fielders_choice', 'triple_play','sac_bunt',\n",
    "    'fielders_choice_out', 'double_play', 'field_error',\n",
    "    'force_out', 'grounded_into_double_play', 'sac_fly']\n",
    "strikeout = ['strikeout_double_play']\n",
    "walk = ['intent_walk']\n",
    "\n",
    "data = data.loc[~data.result.isin(drop)]\n",
    "data.loc[data.result.isin(field_out), ['result']] = 'field_out'\n",
    "data.loc[data.result.isin(strikeout), ['result']] = 'strikeout'\n",
    "data.loc[data.result.isin(walk), ['result']] = 'walk'\n",
    "data = data.fillna(0.)\n",
    "data = data.loc[~data.result.isin(('strikeout','walk'))]"
   ]
  },
  {
   "cell_type": "code",
   "execution_count": 20,
   "metadata": {},
   "outputs": [
    {
     "data": {
      "text/plain": [
       "field_out    357206\n",
       "single       114012\n",
       "double        36092\n",
       "home_run      26138\n",
       "triple         3672\n",
       "Name: result, dtype: int64"
      ]
     },
     "metadata": {},
     "output_type": "display_data"
    }
   ],
   "source": [
    "display(data.result.value_counts())"
   ]
  },
  {
   "cell_type": "code",
   "execution_count": 21,
   "metadata": {},
   "outputs": [
    {
     "data": {
      "text/plain": [
       "single       40000\n",
       "field_out    40000\n",
       "double       36092\n",
       "home_run     26138\n",
       "triple        3672\n",
       "Name: result, dtype: int64"
      ]
     },
     "metadata": {},
     "output_type": "display_data"
    }
   ],
   "source": [
    "row_ceil = 40_000\n",
    "field_outs = data.loc[data.result.eq('field_out'), 'result'].count()\n",
    "reduced_field_outs = field_outs - row_ceil\n",
    "singles = data.loc[data.result.eq('single'), 'result'].count()\n",
    "reduced_singles = singles - row_ceil\n",
    "\n",
    "data = data.drop(data[data['result'].eq('field_out')].sample(reduced_field_outs).index)\n",
    "data = data.drop(data[data['result'].eq('single')].sample(reduced_singles).index)\n",
    "display(data.result.value_counts())"
   ]
  },
  {
   "cell_type": "code",
   "execution_count": 22,
   "metadata": {},
   "outputs": [
    {
     "data": {
      "text/plain": [
       "<AxesSubplot: >"
      ]
     },
     "execution_count": 22,
     "metadata": {},
     "output_type": "execute_result"
    },
    {
     "data": {
      "image/png": "[encoded data removed]",
      "text/plain": [
       "<Figure size 640x480 with 1 Axes>"
      ]
     },
     "metadata": {},
     "output_type": "display_data"
    }
   ],
   "source": [
    "data.result.value_counts().plot(kind='bar')"
   ]
  },
  {
   "cell_type": "code",
   "execution_count": 2,
   "metadata": {},
   "outputs": [
    {
     "data": {
      "text/plain": [
       "field_out    40000\n",
       "single       40000\n",
       "double       36092\n",
       "home_run     26138\n",
       "triple        3672\n",
       "Name: result, dtype: int64"
      ]
     },
     "execution_count": 2,
     "metadata": {},
     "output_type": "execute_result"
    }
   ],
   "source": [
    "# Looking at change in data_handler.py\n",
    "from data.data_handler import Data\n",
    "abs = Data('F:/baseball/active_player_abs')\n",
    "abs.clean()\n",
    "abs.data.result.value_counts()"
   ]
  }
 ],
 "metadata": {
  "kernelspec": {
   "display_name": "dev",
   "language": "python",
   "name": "python3"
  },
  "language_info": {
   "codemirror_mode": {
    "name": "ipython",
    "version": 3
   },
   "file_extension": ".py",
   "mimetype": "text/x-python",
   "name": "python",
   "nbconvert_exporter": "python",
   "pygments_lexer": "ipython3",
   "version": "3.9.13"
  },
  "orig_nbformat": 4,
  "vscode": {
   "interpreter": {
    "hash": "6eff1d09b315ea0d7f0c83e4ac250cfcbdcfc1d527d315761d9763c53be87ccc"
   }
  }
 },
 "nbformat": 4,
 "nbformat_minor": 2
}
