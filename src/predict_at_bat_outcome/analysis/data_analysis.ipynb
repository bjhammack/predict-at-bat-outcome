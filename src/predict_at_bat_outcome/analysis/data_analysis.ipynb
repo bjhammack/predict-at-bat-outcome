{
 "cells": [
  {
   "attachments": {},
   "cell_type": "markdown",
   "metadata": {},
   "source": [
    "# Imports"
   ]
  },
  {
   "cell_type": "code",
   "execution_count": 1,
   "metadata": {},
   "outputs": [],
   "source": [
    "# Adding parent dir to sys.path to import functions\n",
    "import sys\n",
    "if \"..\" not in sys.path:\n",
    "    sys.path.insert(0, \"..\")"
   ]
  },
  {
   "cell_type": "code",
   "execution_count": 7,
   "metadata": {},
   "outputs": [],
   "source": [
    "from data.data_handler import Data\n",
    "from IPython.display import display, HTML\n",
    "from matplotlib import pyplot as plt\n",
    "import pandas as pd\n",
    "import numpy as np"
   ]
  },
  {
   "attachments": {},
   "cell_type": "markdown",
   "metadata": {},
   "source": [
    "# Gather Data\n",
    "\n",
    "Using the `Data` class in data_handler.py, the data is gathered into a single pd.DataFrame for analysis."
   ]
  },
  {
   "cell_type": "code",
   "execution_count": 3,
   "metadata": {},
   "outputs": [],
   "source": [
    "abs = Data('F:/baseball/active_player_abs')"
   ]
  },
  {
   "attachments": {},
   "cell_type": "markdown",
   "metadata": {},
   "source": [
    "# Basic Metrics\n",
    "\n",
    "Gathering basic stats to help guide future analysis."
   ]
  },
  {
   "attachments": {},
   "cell_type": "markdown",
   "metadata": {},
   "source": [
    "## Basic File Information"
   ]
  },
  {
   "cell_type": "code",
   "execution_count": 31,
   "metadata": {},
   "outputs": [
    {
     "name": "stdout",
     "output_type": "stream",
     "text": [
      "<class 'pandas.core.frame.DataFrame'>\n",
      "RangeIndex: 778449 entries, 0 to 778448\n",
      "Data columns (total 12 columns):\n",
      " #   Column          Non-Null Count   Dtype  \n",
      "---  ------          --------------   -----  \n",
      " 0   player          778449 non-null  object \n",
      " 1   mlb_id          778449 non-null  object \n",
      " 2   position        778449 non-null  object \n",
      " 3   game_date       778449 non-null  object \n",
      " 4   pitcher         778449 non-null  object \n",
      " 5   result          778449 non-null  object \n",
      " 6   exit_velocity   527480 non-null  float64\n",
      " 7   launch_angle    527426 non-null  float64\n",
      " 8   distance        485924 non-null  float64\n",
      " 9   direction       537192 non-null  object \n",
      " 10  pitch_velocity  772478 non-null  float64\n",
      " 11  pitch_type      20674 non-null   object \n",
      "dtypes: float64(4), object(8)\n",
      "memory usage: 71.3+ MB\n"
     ]
    },
    {
     "data": {
      "text/plain": [
       "None"
      ]
     },
     "metadata": {},
     "output_type": "display_data"
    }
   ],
   "source": [
    "display(abs.data.info())"
   ]
  },
  {
   "cell_type": "code",
   "execution_count": 33,
   "metadata": {},
   "outputs": [
    {
     "data": {
      "text/html": [
       "<table border=\"1\" class=\"dataframe\">\n",
       "  <thead>\n",
       "    <tr style=\"text-align: right;\">\n",
       "      <th></th>\n",
       "      <th>player</th>\n",
       "      <th>mlb_id</th>\n",
       "      <th>position</th>\n",
       "      <th>game_date</th>\n",
       "      <th>pitcher</th>\n",
       "      <th>result</th>\n",
       "      <th>exit_velocity</th>\n",
       "      <th>launch_angle</th>\n",
       "      <th>distance</th>\n",
       "      <th>direction</th>\n",
       "      <th>pitch_velocity</th>\n",
       "      <th>pitch_type</th>\n",
       "    </tr>\n",
       "  </thead>\n",
       "  <tbody>\n",
       "    <tr>\n",
       "      <th>0</th>\n",
       "      <td>Jose Abreu</td>\n",
       "      <td>jose-abreu-547989</td>\n",
       "      <td>1B</td>\n",
       "      <td>2015-10-03</td>\n",
       "      <td>Feliz, Neftali</td>\n",
       "      <td>intent_walk</td>\n",
       "      <td>NaN</td>\n",
       "      <td>NaN</td>\n",
       "      <td>NaN</td>\n",
       "      <td>NaN</td>\n",
       "      <td>50.7</td>\n",
       "      <td>NaN</td>\n",
       "    </tr>\n",
       "    <tr>\n",
       "      <th>1</th>\n",
       "      <td>Jose Abreu</td>\n",
       "      <td>jose-abreu-547989</td>\n",
       "      <td>1B</td>\n",
       "      <td>2015-10-03</td>\n",
       "      <td>VerHagen, Drew</td>\n",
       "      <td>strikeout</td>\n",
       "      <td>NaN</td>\n",
       "      <td>NaN</td>\n",
       "      <td>NaN</td>\n",
       "      <td>NaN</td>\n",
       "      <td>78.4</td>\n",
       "      <td>NaN</td>\n",
       "    </tr>\n",
       "    <tr>\n",
       "      <th>2</th>\n",
       "      <td>Jose Abreu</td>\n",
       "      <td>jose-abreu-547989</td>\n",
       "      <td>1B</td>\n",
       "      <td>2015-10-03</td>\n",
       "      <td>Verlander, Justin</td>\n",
       "      <td>field_out</td>\n",
       "      <td>82.1</td>\n",
       "      <td>28.0</td>\n",
       "      <td>276.0</td>\n",
       "      <td>Straightaway</td>\n",
       "      <td>93.9</td>\n",
       "      <td>NaN</td>\n",
       "    </tr>\n",
       "    <tr>\n",
       "      <th>3</th>\n",
       "      <td>Jose Abreu</td>\n",
       "      <td>jose-abreu-547989</td>\n",
       "      <td>1B</td>\n",
       "      <td>2015-10-03</td>\n",
       "      <td>Verlander, Justin</td>\n",
       "      <td>strikeout</td>\n",
       "      <td>NaN</td>\n",
       "      <td>NaN</td>\n",
       "      <td>NaN</td>\n",
       "      <td>NaN</td>\n",
       "      <td>88.0</td>\n",
       "      <td>NaN</td>\n",
       "    </tr>\n",
       "    <tr>\n",
       "      <th>4</th>\n",
       "      <td>Jose Abreu</td>\n",
       "      <td>jose-abreu-547989</td>\n",
       "      <td>1B</td>\n",
       "      <td>2015-10-03</td>\n",
       "      <td>Verlander, Justin</td>\n",
       "      <td>field_out</td>\n",
       "      <td>80.0</td>\n",
       "      <td>69.0</td>\n",
       "      <td>NaN</td>\n",
       "      <td>Straightaway</td>\n",
       "      <td>78.0</td>\n",
       "      <td>NaN</td>\n",
       "    </tr>\n",
       "  </tbody>\n",
       "</table>"
      ],
      "text/plain": [
       "<IPython.core.display.HTML object>"
      ]
     },
     "metadata": {},
     "output_type": "display_data"
    }
   ],
   "source": [
    "display(abs.data.head())"
   ]
  },
  {
   "cell_type": "code",
   "execution_count": 52,
   "metadata": {},
   "outputs": [
    {
     "name": "stdout",
     "output_type": "stream",
     "text": [
      "Distinct years: [2015 2016 2017 2018 2019 2020]\n",
      "\n",
      "Distinct results: ['intent_walk' 'strikeout' 'field_out' 'single' 'home_run' 'walk' 'double'\n",
      " 'field_error' 'hit_by_pitch' 'sac_fly' 'grounded_into_double_play'\n",
      " 'force_out' 'double_play' 'triple' 'fielders_choice_out'\n",
      " 'fielders_choice' 'strikeout_double_play' 'interf_def' 'triple_play'\n",
      " 'sac_bunt' 'sac_fly_double_play' 'batter_interference'\n",
      " 'sac_bunt_double_play']\n",
      "\n",
      "Distinct positions: ['1B' '2B' '3B' 'CF' 'C' 'DH' 'LF' 'OF' 'RF' 'SS']\n",
      "\n",
      "Unique players count: 727\n",
      "\n",
      "Unique opp pitcher count: 1668\n"
     ]
    }
   ],
   "source": [
    "print('Distinct years:', pd.to_datetime(abs.data.game_date).dt.year.unique())\n",
    "print('\\nDistinct results:', abs.data.result.unique())\n",
    "print('\\nDistinct positions:', abs.data.position.unique())\n",
    "print('\\nUnique players count:', len(abs.data.mlb_id.unique()))\n",
    "print('\\nUnique opp pitcher count:', len(abs.data.pitcher.unique()))\n"
   ]
  },
  {
   "cell_type": "markdown",
   "metadata": {},
   "source": [
    "## Distributions"
   ]
  },
  {
   "cell_type": "code",
   "execution_count": 60,
   "metadata": {},
   "outputs": [
    {
     "data": {
      "text/plain": [
       "2019    175027\n",
       "2018    161789\n",
       "2017    146028\n",
       "2016    123405\n",
       "2015    106792\n",
       "2020     65408\n",
       "Name: game_date, dtype: int64"
      ]
     },
     "execution_count": 60,
     "metadata": {},
     "output_type": "execute_result"
    }
   ],
   "source": [
    "pd.to_datetime(abs.data.game_date).dt.year.value_counts()"
   ]
  },
  {
   "cell_type": "code",
   "execution_count": 61,
   "metadata": {},
   "outputs": [
    {
     "data": {
      "text/plain": [
       "field_out                    309117\n",
       "strikeout                    165531\n",
       "single                       114012\n",
       "walk                          63044\n",
       "double                        36092\n",
       "home_run                      26138\n",
       "force_out                     15584\n",
       "grounded_into_double_play     15099\n",
       "hit_by_pitch                   7898\n",
       "field_error                    6464\n",
       "sac_fly                        5013\n",
       "intent_walk                    3944\n",
       "triple                         3672\n",
       "sac_bunt                       1969\n",
       "double_play                    1836\n",
       "fielders_choice_out            1296\n",
       "fielders_choice                 807\n",
       "strikeout_double_play           619\n",
       "interf_def                      215\n",
       "sac_fly_double_play              67\n",
       "triple_play                      21\n",
       "batter_interference               6\n",
       "sac_bunt_double_play              5\n",
       "Name: result, dtype: int64"
      ]
     },
     "metadata": {},
     "output_type": "display_data"
    }
   ],
   "source": [
    "display(abs.data.result.value_counts())"
   ]
  },
  {
   "cell_type": "code",
   "execution_count": 59,
   "metadata": {},
   "outputs": [
    {
     "data": {
      "text/plain": [
       "2B    107529\n",
       "3B    105912\n",
       "1B     96784\n",
       "LF     92748\n",
       "C      92724\n",
       "RF     90439\n",
       "SS     89674\n",
       "CF     80382\n",
       "OF     16760\n",
       "DH      5497\n",
       "Name: position, dtype: int64"
      ]
     },
     "execution_count": 59,
     "metadata": {},
     "output_type": "execute_result"
    }
   ],
   "source": [
    "abs.data.position.value_counts()"
   ]
  },
  {
   "cell_type": "code",
   "execution_count": 48,
   "metadata": {},
   "outputs": [
    {
     "data": {
      "text/html": [
       "<div>\n",
       "<style scoped>\n",
       "    .dataframe tbody tr th:only-of-type {\n",
       "        vertical-align: middle;\n",
       "    }\n",
       "\n",
       "    .dataframe tbody tr th {\n",
       "        vertical-align: top;\n",
       "    }\n",
       "\n",
       "    .dataframe thead th {\n",
       "        text-align: right;\n",
       "    }\n",
       "</style>\n",
       "<table border=\"1\" class=\"dataframe\">\n",
       "  <thead>\n",
       "    <tr style=\"text-align: right;\">\n",
       "      <th></th>\n",
       "      <th>exit_velocity</th>\n",
       "      <th>launch_angle</th>\n",
       "      <th>distance</th>\n",
       "      <th>pitch_velocity</th>\n",
       "    </tr>\n",
       "  </thead>\n",
       "  <tbody>\n",
       "    <tr>\n",
       "      <th>count</th>\n",
       "      <td>527480.000000</td>\n",
       "      <td>527426.000000</td>\n",
       "      <td>485924.000000</td>\n",
       "      <td>772478.000000</td>\n",
       "    </tr>\n",
       "    <tr>\n",
       "      <th>mean</th>\n",
       "      <td>88.448861</td>\n",
       "      <td>12.224473</td>\n",
       "      <td>171.108021</td>\n",
       "      <td>88.775303</td>\n",
       "    </tr>\n",
       "    <tr>\n",
       "      <th>std</th>\n",
       "      <td>13.480516</td>\n",
       "      <td>26.956441</td>\n",
       "      <td>136.668563</td>\n",
       "      <td>5.898683</td>\n",
       "    </tr>\n",
       "    <tr>\n",
       "      <th>min</th>\n",
       "      <td>5.200000</td>\n",
       "      <td>-89.000000</td>\n",
       "      <td>0.000000</td>\n",
       "      <td>38.100000</td>\n",
       "    </tr>\n",
       "    <tr>\n",
       "      <th>25%</th>\n",
       "      <td>80.000000</td>\n",
       "      <td>-6.000000</td>\n",
       "      <td>23.000000</td>\n",
       "      <td>84.700000</td>\n",
       "    </tr>\n",
       "    <tr>\n",
       "      <th>50%</th>\n",
       "      <td>90.300000</td>\n",
       "      <td>12.000000</td>\n",
       "      <td>168.000000</td>\n",
       "      <td>89.900000</td>\n",
       "    </tr>\n",
       "    <tr>\n",
       "      <th>75%</th>\n",
       "      <td>98.800000</td>\n",
       "      <td>30.000000</td>\n",
       "      <td>293.000000</td>\n",
       "      <td>93.400000</td>\n",
       "    </tr>\n",
       "    <tr>\n",
       "      <th>max</th>\n",
       "      <td>122.200000</td>\n",
       "      <td>90.000000</td>\n",
       "      <td>505.000000</td>\n",
       "      <td>105.400000</td>\n",
       "    </tr>\n",
       "  </tbody>\n",
       "</table>\n",
       "</div>"
      ],
      "text/plain": [
       "       exit_velocity   launch_angle       distance  pitch_velocity\n",
       "count  527480.000000  527426.000000  485924.000000   772478.000000\n",
       "mean       88.448861      12.224473     171.108021       88.775303\n",
       "std        13.480516      26.956441     136.668563        5.898683\n",
       "min         5.200000     -89.000000       0.000000       38.100000\n",
       "25%        80.000000      -6.000000      23.000000       84.700000\n",
       "50%        90.300000      12.000000     168.000000       89.900000\n",
       "75%        98.800000      30.000000     293.000000       93.400000\n",
       "max       122.200000      90.000000     505.000000      105.400000"
      ]
     },
     "metadata": {},
     "output_type": "display_data"
    }
   ],
   "source": [
    "display(abs.data.describe())"
   ]
  },
  {
   "attachments": {},
   "cell_type": "markdown",
   "metadata": {},
   "source": [
    "## Distributions"
   ]
  },
  {
   "cell_type": "code",
   "execution_count": 46,
   "metadata": {},
   "outputs": [
    {
     "data": {
      "image/png": "[encoded data removed]",
      "text/plain": [
       "<Figure size 640x480 with 4 Axes>"
      ]
     },
     "metadata": {},
     "output_type": "display_data"
    }
   ],
   "source": [
    "figure, ax = plt.subplots(2,2)\n",
    "\n",
    "ax1 = abs.data.result.value_counts().plot(kind='bar', ax=ax[1,0])\n",
    "ax2 = abs.data.position.value_counts().plot(kind='bar', ax=ax[0,1])\n",
    "ax3 = abs.data.exit_velocity.hist(ax=ax[0,0])\n",
    "ax4 = abs.data.loc[~abs.data.result.isin(['field_out','strikeout'])].result.value_counts().plot(kind='bar', ax=ax[1,1])\n"
   ]
  }
 ],
 "metadata": {
  "kernelspec": {
   "display_name": "dev",
   "language": "python",
   "name": "python3"
  },
  "language_info": {
   "codemirror_mode": {
    "name": "ipython",
    "version": 3
   },
   "file_extension": ".py",
   "mimetype": "text/x-python",
   "name": "python",
   "nbconvert_exporter": "python",
   "pygments_lexer": "ipython3",
   "version": "3.9.13"
  },
  "orig_nbformat": 4,
  "vscode": {
   "interpreter": {
    "hash": "6eff1d09b315ea0d7f0c83e4ac250cfcbdcfc1d527d315761d9763c53be87ccc"
   }
  }
 },
 "nbformat": 4,
 "nbformat_minor": 2
}
